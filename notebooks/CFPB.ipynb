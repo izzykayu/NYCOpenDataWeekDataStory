{
 "cells": [
  {
   "cell_type": "code",
   "execution_count": 1,
   "metadata": {},
   "outputs": [],
   "source": [
    "import pandas as pd \n",
    "import numpy as np\n",
    "from sklearn.cluster import KMeans \n",
    "from sklearn.feature_extraction.text import TfidfVectorizer \n",
    "from sklearn.preprocessing import normalize \n",
    "import nltk \n",
    "from sklearn.model_selection import train_test_split \n",
    "import time\n",
    "import math\n",
    "\n",
    "import matplotlib.pyplot as plt\n",
    "%matplotlib inline\n"
   ]
  },
  {
   "cell_type": "code",
   "execution_count": 2,
   "metadata": {},
   "outputs": [],
   "source": [
    "zip_codes_df = pd.read_excel('NYC ZIP CODES.xlsx')\n",
    "zip_codes_list = list(zip_codes_df['zips 1'])\n",
    "\n",
    "for i in range(1,10): \n",
    "    zip_codes_list.extend(list(zip_codes_df.iloc[:,i]))\n"
   ]
  },
  {
   "cell_type": "code",
   "execution_count": 3,
   "metadata": {},
   "outputs": [
    {
     "data": {
      "text/plain": [
       "['104', '114', '116', '103', '110', '100', '101', '102', '113', '111', '112']"
      ]
     },
     "execution_count": 3,
     "metadata": {},
     "output_type": "execute_result"
    }
   ],
   "source": [
    "zip_codes_list = [str(z)[0:3] for z in zip_codes_list if math.isnan(z) == False ]\n",
    "zip_codes_list = list(set(zip_codes_list))\n",
    "zip_codes_list\n"
   ]
  },
  {
   "cell_type": "code",
   "execution_count": 4,
   "metadata": {},
   "outputs": [
    {
     "name": "stdout",
     "output_type": "stream",
     "text": [
      "54651\n"
     ]
    }
   ],
   "source": [
    "df = pd.read_csv('complaints-2021-03-09_14_52.csv')\n",
    "df['Date received'] = pd.to_datetime(df['Date received'])\n",
    "df['Year received'] = df['Date received'].dt.year\n",
    "df = df[df['Year received'] != 2018]\n",
    "print(len(df))"
   ]
  },
  {
   "cell_type": "code",
   "execution_count": 5,
   "metadata": {},
   "outputs": [
    {
     "name": "stdout",
     "output_type": "stream",
     "text": [
      "31370\n"
     ]
    },
    {
     "data": {
      "text/html": [
       "<div>\n",
       "<style scoped>\n",
       "    .dataframe tbody tr th:only-of-type {\n",
       "        vertical-align: middle;\n",
       "    }\n",
       "\n",
       "    .dataframe tbody tr th {\n",
       "        vertical-align: top;\n",
       "    }\n",
       "\n",
       "    .dataframe thead th {\n",
       "        text-align: right;\n",
       "    }\n",
       "</style>\n",
       "<table border=\"1\" class=\"dataframe\">\n",
       "  <thead>\n",
       "    <tr style=\"text-align: right;\">\n",
       "      <th></th>\n",
       "      <th>Date received</th>\n",
       "      <th>Product</th>\n",
       "      <th>Sub-product</th>\n",
       "      <th>Issue</th>\n",
       "      <th>Sub-issue</th>\n",
       "      <th>Consumer complaint narrative</th>\n",
       "      <th>Company public response</th>\n",
       "      <th>Company</th>\n",
       "      <th>State</th>\n",
       "      <th>ZIP code</th>\n",
       "      <th>Tags</th>\n",
       "      <th>Consumer consent provided?</th>\n",
       "      <th>Submitted via</th>\n",
       "      <th>Date sent to company</th>\n",
       "      <th>Company response to consumer</th>\n",
       "      <th>Timely response?</th>\n",
       "      <th>Consumer disputed?</th>\n",
       "      <th>Complaint ID</th>\n",
       "      <th>Year received</th>\n",
       "    </tr>\n",
       "  </thead>\n",
       "  <tbody>\n",
       "    <tr>\n",
       "      <th>0</th>\n",
       "      <td>2019-07-16</td>\n",
       "      <td>Credit reporting, credit repair services, or o...</td>\n",
       "      <td>Credit reporting</td>\n",
       "      <td>Incorrect information on your report</td>\n",
       "      <td>Information belongs to someone else</td>\n",
       "      <td>NaN</td>\n",
       "      <td>Company has responded to the consumer and the ...</td>\n",
       "      <td>Experian Information Solutions Inc.</td>\n",
       "      <td>NY</td>\n",
       "      <td>11208</td>\n",
       "      <td>None</td>\n",
       "      <td>Consent not provided</td>\n",
       "      <td>Web</td>\n",
       "      <td>07/16/19</td>\n",
       "      <td>Closed with non-monetary relief</td>\n",
       "      <td>Yes</td>\n",
       "      <td>NaN</td>\n",
       "      <td>3307472</td>\n",
       "      <td>2019</td>\n",
       "    </tr>\n",
       "    <tr>\n",
       "      <th>2</th>\n",
       "      <td>2019-07-13</td>\n",
       "      <td>Credit reporting, credit repair services, or o...</td>\n",
       "      <td>Credit reporting</td>\n",
       "      <td>Improper use of your report</td>\n",
       "      <td>Credit inquiries on your report that you don't...</td>\n",
       "      <td>NaN</td>\n",
       "      <td>None</td>\n",
       "      <td>TD BANK US HOLDING COMPANY</td>\n",
       "      <td>NY</td>\n",
       "      <td>11232</td>\n",
       "      <td>None</td>\n",
       "      <td>Consent not provided</td>\n",
       "      <td>Web</td>\n",
       "      <td>07/29/19</td>\n",
       "      <td>Closed with non-monetary relief</td>\n",
       "      <td>Yes</td>\n",
       "      <td>NaN</td>\n",
       "      <td>3305374</td>\n",
       "      <td>2019</td>\n",
       "    </tr>\n",
       "    <tr>\n",
       "      <th>4</th>\n",
       "      <td>2019-04-04</td>\n",
       "      <td>Credit reporting, credit repair services, or o...</td>\n",
       "      <td>Credit reporting</td>\n",
       "      <td>Problem with a credit reporting company's inve...</td>\n",
       "      <td>Their investigation did not fix an error on yo...</td>\n",
       "      <td>NaN</td>\n",
       "      <td>None</td>\n",
       "      <td>EQUIFAX, INC.</td>\n",
       "      <td>NY</td>\n",
       "      <td>11204</td>\n",
       "      <td>None</td>\n",
       "      <td>Consent not provided</td>\n",
       "      <td>Web</td>\n",
       "      <td>04/04/19</td>\n",
       "      <td>Closed with explanation</td>\n",
       "      <td>Yes</td>\n",
       "      <td>NaN</td>\n",
       "      <td>3201576</td>\n",
       "      <td>2019</td>\n",
       "    </tr>\n",
       "    <tr>\n",
       "      <th>6</th>\n",
       "      <td>2019-06-19</td>\n",
       "      <td>Credit reporting, credit repair services, or o...</td>\n",
       "      <td>Credit reporting</td>\n",
       "      <td>Problem with a credit reporting company's inve...</td>\n",
       "      <td>Their investigation did not fix an error on yo...</td>\n",
       "      <td>NaN</td>\n",
       "      <td>Company has responded to the consumer and the ...</td>\n",
       "      <td>TRANSUNION INTERMEDIATE HOLDINGS, INC.</td>\n",
       "      <td>NY</td>\n",
       "      <td>11225</td>\n",
       "      <td>None</td>\n",
       "      <td>Consent not provided</td>\n",
       "      <td>Web</td>\n",
       "      <td>06/19/19</td>\n",
       "      <td>Closed with explanation</td>\n",
       "      <td>Yes</td>\n",
       "      <td>NaN</td>\n",
       "      <td>3279897</td>\n",
       "      <td>2019</td>\n",
       "    </tr>\n",
       "    <tr>\n",
       "      <th>7</th>\n",
       "      <td>2019-04-16</td>\n",
       "      <td>Payday loan, title loan, or personal loan</td>\n",
       "      <td>Personal line of credit</td>\n",
       "      <td>Getting a line of credit</td>\n",
       "      <td>None</td>\n",
       "      <td>NaN</td>\n",
       "      <td>Company believes it acted appropriately as aut...</td>\n",
       "      <td>Happy Money, Inc.</td>\n",
       "      <td>NY</td>\n",
       "      <td>10065</td>\n",
       "      <td>None</td>\n",
       "      <td>Consent not provided</td>\n",
       "      <td>Web</td>\n",
       "      <td>04/16/19</td>\n",
       "      <td>Closed with explanation</td>\n",
       "      <td>No</td>\n",
       "      <td>NaN</td>\n",
       "      <td>3213397</td>\n",
       "      <td>2019</td>\n",
       "    </tr>\n",
       "    <tr>\n",
       "      <th>...</th>\n",
       "      <td>...</td>\n",
       "      <td>...</td>\n",
       "      <td>...</td>\n",
       "      <td>...</td>\n",
       "      <td>...</td>\n",
       "      <td>...</td>\n",
       "      <td>...</td>\n",
       "      <td>...</td>\n",
       "      <td>...</td>\n",
       "      <td>...</td>\n",
       "      <td>...</td>\n",
       "      <td>...</td>\n",
       "      <td>...</td>\n",
       "      <td>...</td>\n",
       "      <td>...</td>\n",
       "      <td>...</td>\n",
       "      <td>...</td>\n",
       "      <td>...</td>\n",
       "      <td>...</td>\n",
       "    </tr>\n",
       "    <tr>\n",
       "      <th>68479</th>\n",
       "      <td>2019-03-01</td>\n",
       "      <td>Credit reporting, credit repair services, or o...</td>\n",
       "      <td>Credit reporting</td>\n",
       "      <td>Improper use of your report</td>\n",
       "      <td>Received unsolicited financial product or insu...</td>\n",
       "      <td>NaN</td>\n",
       "      <td>Company has responded to the consumer and the ...</td>\n",
       "      <td>Experian Information Solutions Inc.</td>\n",
       "      <td>NY</td>\n",
       "      <td>11003</td>\n",
       "      <td>None</td>\n",
       "      <td>Consent not provided</td>\n",
       "      <td>Web</td>\n",
       "      <td>03/01/19</td>\n",
       "      <td>Closed with non-monetary relief</td>\n",
       "      <td>Yes</td>\n",
       "      <td>NaN</td>\n",
       "      <td>3166200</td>\n",
       "      <td>2019</td>\n",
       "    </tr>\n",
       "    <tr>\n",
       "      <th>68480</th>\n",
       "      <td>2019-02-22</td>\n",
       "      <td>Checking or savings account</td>\n",
       "      <td>Savings account</td>\n",
       "      <td>Managing an account</td>\n",
       "      <td>Problem using a debit or ATM card</td>\n",
       "      <td>I had opened a saving acct on XX/XX/19 td bank...</td>\n",
       "      <td>None</td>\n",
       "      <td>TD BANK US HOLDING COMPANY</td>\n",
       "      <td>NY</td>\n",
       "      <td>112XX</td>\n",
       "      <td>None</td>\n",
       "      <td>Consent provided</td>\n",
       "      <td>Web</td>\n",
       "      <td>02/25/19</td>\n",
       "      <td>Closed with explanation</td>\n",
       "      <td>Yes</td>\n",
       "      <td>NaN</td>\n",
       "      <td>3159484</td>\n",
       "      <td>2019</td>\n",
       "    </tr>\n",
       "    <tr>\n",
       "      <th>68482</th>\n",
       "      <td>2019-03-12</td>\n",
       "      <td>Credit reporting, credit repair services, or o...</td>\n",
       "      <td>Credit reporting</td>\n",
       "      <td>Improper use of your report</td>\n",
       "      <td>Credit inquiries on your report that you don't...</td>\n",
       "      <td>NaN</td>\n",
       "      <td>Company has responded to the consumer and the ...</td>\n",
       "      <td>BARCLAYS BANK DELAWARE</td>\n",
       "      <td>NY</td>\n",
       "      <td>10469</td>\n",
       "      <td>None</td>\n",
       "      <td>Consent not provided</td>\n",
       "      <td>Web</td>\n",
       "      <td>03/12/19</td>\n",
       "      <td>Closed with explanation</td>\n",
       "      <td>Yes</td>\n",
       "      <td>NaN</td>\n",
       "      <td>3176637</td>\n",
       "      <td>2019</td>\n",
       "    </tr>\n",
       "    <tr>\n",
       "      <th>68485</th>\n",
       "      <td>2019-02-11</td>\n",
       "      <td>Credit reporting, credit repair services, or o...</td>\n",
       "      <td>Credit reporting</td>\n",
       "      <td>Credit monitoring or identity theft protection...</td>\n",
       "      <td>Billing dispute for services</td>\n",
       "      <td>On XX/XX/XXXX, I opened a loan account with Ne...</td>\n",
       "      <td>None</td>\n",
       "      <td>Nelnet, Inc.</td>\n",
       "      <td>NY</td>\n",
       "      <td>103XX</td>\n",
       "      <td>None</td>\n",
       "      <td>Consent provided</td>\n",
       "      <td>Web</td>\n",
       "      <td>02/11/19</td>\n",
       "      <td>Closed with explanation</td>\n",
       "      <td>Yes</td>\n",
       "      <td>NaN</td>\n",
       "      <td>3148714</td>\n",
       "      <td>2019</td>\n",
       "    </tr>\n",
       "    <tr>\n",
       "      <th>68487</th>\n",
       "      <td>2019-02-20</td>\n",
       "      <td>Student loan</td>\n",
       "      <td>Federal student loan servicing</td>\n",
       "      <td>Dealing with your lender or servicer</td>\n",
       "      <td>Don't agree with the fees charged</td>\n",
       "      <td>My monthly plan is automatically debited from ...</td>\n",
       "      <td>None</td>\n",
       "      <td>Navient Solutions, LLC.</td>\n",
       "      <td>NY</td>\n",
       "      <td>104XX</td>\n",
       "      <td>None</td>\n",
       "      <td>Consent provided</td>\n",
       "      <td>Web</td>\n",
       "      <td>02/20/19</td>\n",
       "      <td>Closed with explanation</td>\n",
       "      <td>Yes</td>\n",
       "      <td>NaN</td>\n",
       "      <td>3157606</td>\n",
       "      <td>2019</td>\n",
       "    </tr>\n",
       "  </tbody>\n",
       "</table>\n",
       "<p>31370 rows × 19 columns</p>\n",
       "</div>"
      ],
      "text/plain": [
       "      Date received                                            Product  \\\n",
       "0        2019-07-16  Credit reporting, credit repair services, or o...   \n",
       "2        2019-07-13  Credit reporting, credit repair services, or o...   \n",
       "4        2019-04-04  Credit reporting, credit repair services, or o...   \n",
       "6        2019-06-19  Credit reporting, credit repair services, or o...   \n",
       "7        2019-04-16          Payday loan, title loan, or personal loan   \n",
       "...             ...                                                ...   \n",
       "68479    2019-03-01  Credit reporting, credit repair services, or o...   \n",
       "68480    2019-02-22                        Checking or savings account   \n",
       "68482    2019-03-12  Credit reporting, credit repair services, or o...   \n",
       "68485    2019-02-11  Credit reporting, credit repair services, or o...   \n",
       "68487    2019-02-20                                       Student loan   \n",
       "\n",
       "                          Sub-product  \\\n",
       "0                    Credit reporting   \n",
       "2                    Credit reporting   \n",
       "4                    Credit reporting   \n",
       "6                    Credit reporting   \n",
       "7             Personal line of credit   \n",
       "...                               ...   \n",
       "68479                Credit reporting   \n",
       "68480                 Savings account   \n",
       "68482                Credit reporting   \n",
       "68485                Credit reporting   \n",
       "68487  Federal student loan servicing   \n",
       "\n",
       "                                                   Issue  \\\n",
       "0                   Incorrect information on your report   \n",
       "2                            Improper use of your report   \n",
       "4      Problem with a credit reporting company's inve...   \n",
       "6      Problem with a credit reporting company's inve...   \n",
       "7                               Getting a line of credit   \n",
       "...                                                  ...   \n",
       "68479                        Improper use of your report   \n",
       "68480                                Managing an account   \n",
       "68482                        Improper use of your report   \n",
       "68485  Credit monitoring or identity theft protection...   \n",
       "68487               Dealing with your lender or servicer   \n",
       "\n",
       "                                               Sub-issue  \\\n",
       "0                    Information belongs to someone else   \n",
       "2      Credit inquiries on your report that you don't...   \n",
       "4      Their investigation did not fix an error on yo...   \n",
       "6      Their investigation did not fix an error on yo...   \n",
       "7                                                   None   \n",
       "...                                                  ...   \n",
       "68479  Received unsolicited financial product or insu...   \n",
       "68480                  Problem using a debit or ATM card   \n",
       "68482  Credit inquiries on your report that you don't...   \n",
       "68485                       Billing dispute for services   \n",
       "68487                  Don't agree with the fees charged   \n",
       "\n",
       "                            Consumer complaint narrative  \\\n",
       "0                                                    NaN   \n",
       "2                                                    NaN   \n",
       "4                                                    NaN   \n",
       "6                                                    NaN   \n",
       "7                                                    NaN   \n",
       "...                                                  ...   \n",
       "68479                                                NaN   \n",
       "68480  I had opened a saving acct on XX/XX/19 td bank...   \n",
       "68482                                                NaN   \n",
       "68485  On XX/XX/XXXX, I opened a loan account with Ne...   \n",
       "68487  My monthly plan is automatically debited from ...   \n",
       "\n",
       "                                 Company public response  \\\n",
       "0      Company has responded to the consumer and the ...   \n",
       "2                                                   None   \n",
       "4                                                   None   \n",
       "6      Company has responded to the consumer and the ...   \n",
       "7      Company believes it acted appropriately as aut...   \n",
       "...                                                  ...   \n",
       "68479  Company has responded to the consumer and the ...   \n",
       "68480                                               None   \n",
       "68482  Company has responded to the consumer and the ...   \n",
       "68485                                               None   \n",
       "68487                                               None   \n",
       "\n",
       "                                      Company State ZIP code  Tags  \\\n",
       "0         Experian Information Solutions Inc.    NY    11208  None   \n",
       "2                  TD BANK US HOLDING COMPANY    NY    11232  None   \n",
       "4                               EQUIFAX, INC.    NY    11204  None   \n",
       "6      TRANSUNION INTERMEDIATE HOLDINGS, INC.    NY    11225  None   \n",
       "7                           Happy Money, Inc.    NY    10065  None   \n",
       "...                                       ...   ...      ...   ...   \n",
       "68479     Experian Information Solutions Inc.    NY    11003  None   \n",
       "68480              TD BANK US HOLDING COMPANY    NY    112XX  None   \n",
       "68482                  BARCLAYS BANK DELAWARE    NY    10469  None   \n",
       "68485                            Nelnet, Inc.    NY    103XX  None   \n",
       "68487                 Navient Solutions, LLC.    NY    104XX  None   \n",
       "\n",
       "      Consumer consent provided? Submitted via Date sent to company  \\\n",
       "0           Consent not provided           Web             07/16/19   \n",
       "2           Consent not provided           Web             07/29/19   \n",
       "4           Consent not provided           Web             04/04/19   \n",
       "6           Consent not provided           Web             06/19/19   \n",
       "7           Consent not provided           Web             04/16/19   \n",
       "...                          ...           ...                  ...   \n",
       "68479       Consent not provided           Web             03/01/19   \n",
       "68480           Consent provided           Web             02/25/19   \n",
       "68482       Consent not provided           Web             03/12/19   \n",
       "68485           Consent provided           Web             02/11/19   \n",
       "68487           Consent provided           Web             02/20/19   \n",
       "\n",
       "          Company response to consumer Timely response?  Consumer disputed?  \\\n",
       "0      Closed with non-monetary relief              Yes                 NaN   \n",
       "2      Closed with non-monetary relief              Yes                 NaN   \n",
       "4              Closed with explanation              Yes                 NaN   \n",
       "6              Closed with explanation              Yes                 NaN   \n",
       "7              Closed with explanation               No                 NaN   \n",
       "...                                ...              ...                 ...   \n",
       "68479  Closed with non-monetary relief              Yes                 NaN   \n",
       "68480          Closed with explanation              Yes                 NaN   \n",
       "68482          Closed with explanation              Yes                 NaN   \n",
       "68485          Closed with explanation              Yes                 NaN   \n",
       "68487          Closed with explanation              Yes                 NaN   \n",
       "\n",
       "       Complaint ID  Year received  \n",
       "0           3307472           2019  \n",
       "2           3305374           2019  \n",
       "4           3201576           2019  \n",
       "6           3279897           2019  \n",
       "7           3213397           2019  \n",
       "...             ...            ...  \n",
       "68479       3166200           2019  \n",
       "68480       3159484           2019  \n",
       "68482       3176637           2019  \n",
       "68485       3148714           2019  \n",
       "68487       3157606           2019  \n",
       "\n",
       "[31370 rows x 19 columns]"
      ]
     },
     "execution_count": 5,
     "metadata": {},
     "output_type": "execute_result"
    }
   ],
   "source": [
    "#NYC ZIP CODES ONLY \n",
    "df['zip check'] = [z[0:3] for z in df['ZIP code']]\n",
    "df = df.loc[df['zip check'].isin(zip_codes_list)]\n",
    "df.drop(columns = 'zip check' , inplace = True) \n",
    "print(len(df))\n",
    "df"
   ]
  },
  {
   "cell_type": "code",
   "execution_count": 6,
   "metadata": {},
   "outputs": [],
   "source": [
    "text = df['Product'] + ' ' + df['Sub-product'] + ' ' + df['Issue'] + ' ' + df['Sub-issue']"
   ]
  },
  {
   "cell_type": "code",
   "execution_count": 7,
   "metadata": {},
   "outputs": [],
   "source": [
    "train, test = train_test_split(text, test_size =0.25)"
   ]
  },
  {
   "cell_type": "code",
   "execution_count": 8,
   "metadata": {},
   "outputs": [],
   "source": [
    "tf_idf_vectorizer = TfidfVectorizer(stop_words='english')\n",
    "tf_idf = tf_idf_vectorizer.fit_transform(text)\n",
    "tf_idf_norm = normalize(tf_idf)\n",
    "tf_idf_array = tf_idf_norm.toarray()"
   ]
  },
  {
   "cell_type": "code",
   "execution_count": 9,
   "metadata": {},
   "outputs": [],
   "source": [
    "issues_df = pd.DataFrame(tf_idf_array,columns = tf_idf_vectorizer.get_feature_names())\n",
    "train, test  = train_test_split(issues_df, test_size =0.25)"
   ]
  },
  {
   "cell_type": "code",
   "execution_count": 10,
   "metadata": {},
   "outputs": [
    {
     "data": {
      "text/html": [
       "<div>\n",
       "<style scoped>\n",
       "    .dataframe tbody tr th:only-of-type {\n",
       "        vertical-align: middle;\n",
       "    }\n",
       "\n",
       "    .dataframe tbody tr th {\n",
       "        vertical-align: top;\n",
       "    }\n",
       "\n",
       "    .dataframe thead th {\n",
       "        text-align: right;\n",
       "    }\n",
       "</style>\n",
       "<table border=\"1\" class=\"dataframe\">\n",
       "  <thead>\n",
       "    <tr style=\"text-align: right;\">\n",
       "      <th></th>\n",
       "      <th>30</th>\n",
       "      <th>8am</th>\n",
       "      <th>9pm</th>\n",
       "      <th>abusive</th>\n",
       "      <th>accessing</th>\n",
       "      <th>account</th>\n",
       "      <th>action</th>\n",
       "      <th>activating</th>\n",
       "      <th>add</th>\n",
       "      <th>adding</th>\n",
       "      <th>...</th>\n",
       "      <th>want</th>\n",
       "      <th>wasn</th>\n",
       "      <th>wear</th>\n",
       "      <th>withdraw</th>\n",
       "      <th>withdrawals</th>\n",
       "      <th>won</th>\n",
       "      <th>work</th>\n",
       "      <th>working</th>\n",
       "      <th>written</th>\n",
       "      <th>wrong</th>\n",
       "    </tr>\n",
       "  </thead>\n",
       "  <tbody>\n",
       "    <tr>\n",
       "      <th>0</th>\n",
       "      <td>0.0</td>\n",
       "      <td>0.0</td>\n",
       "      <td>0.0</td>\n",
       "      <td>0.0</td>\n",
       "      <td>0.0</td>\n",
       "      <td>0.000000</td>\n",
       "      <td>0.0</td>\n",
       "      <td>0.0</td>\n",
       "      <td>0.0</td>\n",
       "      <td>0.0</td>\n",
       "      <td>...</td>\n",
       "      <td>0.0</td>\n",
       "      <td>0.0</td>\n",
       "      <td>0.0</td>\n",
       "      <td>0.0</td>\n",
       "      <td>0.0</td>\n",
       "      <td>0.0</td>\n",
       "      <td>0.0</td>\n",
       "      <td>0.0</td>\n",
       "      <td>0.0</td>\n",
       "      <td>0.0</td>\n",
       "    </tr>\n",
       "    <tr>\n",
       "      <th>1</th>\n",
       "      <td>0.0</td>\n",
       "      <td>0.0</td>\n",
       "      <td>0.0</td>\n",
       "      <td>0.0</td>\n",
       "      <td>0.0</td>\n",
       "      <td>0.000000</td>\n",
       "      <td>0.0</td>\n",
       "      <td>0.0</td>\n",
       "      <td>0.0</td>\n",
       "      <td>0.0</td>\n",
       "      <td>...</td>\n",
       "      <td>0.0</td>\n",
       "      <td>0.0</td>\n",
       "      <td>0.0</td>\n",
       "      <td>0.0</td>\n",
       "      <td>0.0</td>\n",
       "      <td>0.0</td>\n",
       "      <td>0.0</td>\n",
       "      <td>0.0</td>\n",
       "      <td>0.0</td>\n",
       "      <td>0.0</td>\n",
       "    </tr>\n",
       "    <tr>\n",
       "      <th>2</th>\n",
       "      <td>0.0</td>\n",
       "      <td>0.0</td>\n",
       "      <td>0.0</td>\n",
       "      <td>0.0</td>\n",
       "      <td>0.0</td>\n",
       "      <td>0.000000</td>\n",
       "      <td>0.0</td>\n",
       "      <td>0.0</td>\n",
       "      <td>0.0</td>\n",
       "      <td>0.0</td>\n",
       "      <td>...</td>\n",
       "      <td>0.0</td>\n",
       "      <td>0.0</td>\n",
       "      <td>0.0</td>\n",
       "      <td>0.0</td>\n",
       "      <td>0.0</td>\n",
       "      <td>0.0</td>\n",
       "      <td>0.0</td>\n",
       "      <td>0.0</td>\n",
       "      <td>0.0</td>\n",
       "      <td>0.0</td>\n",
       "    </tr>\n",
       "    <tr>\n",
       "      <th>3</th>\n",
       "      <td>0.0</td>\n",
       "      <td>0.0</td>\n",
       "      <td>0.0</td>\n",
       "      <td>0.0</td>\n",
       "      <td>0.0</td>\n",
       "      <td>0.000000</td>\n",
       "      <td>0.0</td>\n",
       "      <td>0.0</td>\n",
       "      <td>0.0</td>\n",
       "      <td>0.0</td>\n",
       "      <td>...</td>\n",
       "      <td>0.0</td>\n",
       "      <td>0.0</td>\n",
       "      <td>0.0</td>\n",
       "      <td>0.0</td>\n",
       "      <td>0.0</td>\n",
       "      <td>0.0</td>\n",
       "      <td>0.0</td>\n",
       "      <td>0.0</td>\n",
       "      <td>0.0</td>\n",
       "      <td>0.0</td>\n",
       "    </tr>\n",
       "    <tr>\n",
       "      <th>4</th>\n",
       "      <td>0.0</td>\n",
       "      <td>0.0</td>\n",
       "      <td>0.0</td>\n",
       "      <td>0.0</td>\n",
       "      <td>0.0</td>\n",
       "      <td>0.000000</td>\n",
       "      <td>0.0</td>\n",
       "      <td>0.0</td>\n",
       "      <td>0.0</td>\n",
       "      <td>0.0</td>\n",
       "      <td>...</td>\n",
       "      <td>0.0</td>\n",
       "      <td>0.0</td>\n",
       "      <td>0.0</td>\n",
       "      <td>0.0</td>\n",
       "      <td>0.0</td>\n",
       "      <td>0.0</td>\n",
       "      <td>0.0</td>\n",
       "      <td>0.0</td>\n",
       "      <td>0.0</td>\n",
       "      <td>0.0</td>\n",
       "    </tr>\n",
       "    <tr>\n",
       "      <th>...</th>\n",
       "      <td>...</td>\n",
       "      <td>...</td>\n",
       "      <td>...</td>\n",
       "      <td>...</td>\n",
       "      <td>...</td>\n",
       "      <td>...</td>\n",
       "      <td>...</td>\n",
       "      <td>...</td>\n",
       "      <td>...</td>\n",
       "      <td>...</td>\n",
       "      <td>...</td>\n",
       "      <td>...</td>\n",
       "      <td>...</td>\n",
       "      <td>...</td>\n",
       "      <td>...</td>\n",
       "      <td>...</td>\n",
       "      <td>...</td>\n",
       "      <td>...</td>\n",
       "      <td>...</td>\n",
       "      <td>...</td>\n",
       "      <td>...</td>\n",
       "    </tr>\n",
       "    <tr>\n",
       "      <th>31365</th>\n",
       "      <td>0.0</td>\n",
       "      <td>0.0</td>\n",
       "      <td>0.0</td>\n",
       "      <td>0.0</td>\n",
       "      <td>0.0</td>\n",
       "      <td>0.000000</td>\n",
       "      <td>0.0</td>\n",
       "      <td>0.0</td>\n",
       "      <td>0.0</td>\n",
       "      <td>0.0</td>\n",
       "      <td>...</td>\n",
       "      <td>0.0</td>\n",
       "      <td>0.0</td>\n",
       "      <td>0.0</td>\n",
       "      <td>0.0</td>\n",
       "      <td>0.0</td>\n",
       "      <td>0.0</td>\n",
       "      <td>0.0</td>\n",
       "      <td>0.0</td>\n",
       "      <td>0.0</td>\n",
       "      <td>0.0</td>\n",
       "    </tr>\n",
       "    <tr>\n",
       "      <th>31366</th>\n",
       "      <td>0.0</td>\n",
       "      <td>0.0</td>\n",
       "      <td>0.0</td>\n",
       "      <td>0.0</td>\n",
       "      <td>0.0</td>\n",
       "      <td>0.534072</td>\n",
       "      <td>0.0</td>\n",
       "      <td>0.0</td>\n",
       "      <td>0.0</td>\n",
       "      <td>0.0</td>\n",
       "      <td>...</td>\n",
       "      <td>0.0</td>\n",
       "      <td>0.0</td>\n",
       "      <td>0.0</td>\n",
       "      <td>0.0</td>\n",
       "      <td>0.0</td>\n",
       "      <td>0.0</td>\n",
       "      <td>0.0</td>\n",
       "      <td>0.0</td>\n",
       "      <td>0.0</td>\n",
       "      <td>0.0</td>\n",
       "    </tr>\n",
       "    <tr>\n",
       "      <th>31367</th>\n",
       "      <td>0.0</td>\n",
       "      <td>0.0</td>\n",
       "      <td>0.0</td>\n",
       "      <td>0.0</td>\n",
       "      <td>0.0</td>\n",
       "      <td>0.000000</td>\n",
       "      <td>0.0</td>\n",
       "      <td>0.0</td>\n",
       "      <td>0.0</td>\n",
       "      <td>0.0</td>\n",
       "      <td>...</td>\n",
       "      <td>0.0</td>\n",
       "      <td>0.0</td>\n",
       "      <td>0.0</td>\n",
       "      <td>0.0</td>\n",
       "      <td>0.0</td>\n",
       "      <td>0.0</td>\n",
       "      <td>0.0</td>\n",
       "      <td>0.0</td>\n",
       "      <td>0.0</td>\n",
       "      <td>0.0</td>\n",
       "    </tr>\n",
       "    <tr>\n",
       "      <th>31368</th>\n",
       "      <td>0.0</td>\n",
       "      <td>0.0</td>\n",
       "      <td>0.0</td>\n",
       "      <td>0.0</td>\n",
       "      <td>0.0</td>\n",
       "      <td>0.000000</td>\n",
       "      <td>0.0</td>\n",
       "      <td>0.0</td>\n",
       "      <td>0.0</td>\n",
       "      <td>0.0</td>\n",
       "      <td>...</td>\n",
       "      <td>0.0</td>\n",
       "      <td>0.0</td>\n",
       "      <td>0.0</td>\n",
       "      <td>0.0</td>\n",
       "      <td>0.0</td>\n",
       "      <td>0.0</td>\n",
       "      <td>0.0</td>\n",
       "      <td>0.0</td>\n",
       "      <td>0.0</td>\n",
       "      <td>0.0</td>\n",
       "    </tr>\n",
       "    <tr>\n",
       "      <th>31369</th>\n",
       "      <td>0.0</td>\n",
       "      <td>0.0</td>\n",
       "      <td>0.0</td>\n",
       "      <td>0.0</td>\n",
       "      <td>0.0</td>\n",
       "      <td>0.000000</td>\n",
       "      <td>0.0</td>\n",
       "      <td>0.0</td>\n",
       "      <td>0.0</td>\n",
       "      <td>0.0</td>\n",
       "      <td>...</td>\n",
       "      <td>0.0</td>\n",
       "      <td>0.0</td>\n",
       "      <td>0.0</td>\n",
       "      <td>0.0</td>\n",
       "      <td>0.0</td>\n",
       "      <td>0.0</td>\n",
       "      <td>0.0</td>\n",
       "      <td>0.0</td>\n",
       "      <td>0.0</td>\n",
       "      <td>0.0</td>\n",
       "    </tr>\n",
       "  </tbody>\n",
       "</table>\n",
       "<p>31370 rows × 382 columns</p>\n",
       "</div>"
      ],
      "text/plain": [
       "        30  8am  9pm  abusive  accessing   account  action  activating  add  \\\n",
       "0      0.0  0.0  0.0      0.0        0.0  0.000000     0.0         0.0  0.0   \n",
       "1      0.0  0.0  0.0      0.0        0.0  0.000000     0.0         0.0  0.0   \n",
       "2      0.0  0.0  0.0      0.0        0.0  0.000000     0.0         0.0  0.0   \n",
       "3      0.0  0.0  0.0      0.0        0.0  0.000000     0.0         0.0  0.0   \n",
       "4      0.0  0.0  0.0      0.0        0.0  0.000000     0.0         0.0  0.0   \n",
       "...    ...  ...  ...      ...        ...       ...     ...         ...  ...   \n",
       "31365  0.0  0.0  0.0      0.0        0.0  0.000000     0.0         0.0  0.0   \n",
       "31366  0.0  0.0  0.0      0.0        0.0  0.534072     0.0         0.0  0.0   \n",
       "31367  0.0  0.0  0.0      0.0        0.0  0.000000     0.0         0.0  0.0   \n",
       "31368  0.0  0.0  0.0      0.0        0.0  0.000000     0.0         0.0  0.0   \n",
       "31369  0.0  0.0  0.0      0.0        0.0  0.000000     0.0         0.0  0.0   \n",
       "\n",
       "       adding  ...  want  wasn  wear  withdraw  withdrawals  won  work  \\\n",
       "0         0.0  ...   0.0   0.0   0.0       0.0          0.0  0.0   0.0   \n",
       "1         0.0  ...   0.0   0.0   0.0       0.0          0.0  0.0   0.0   \n",
       "2         0.0  ...   0.0   0.0   0.0       0.0          0.0  0.0   0.0   \n",
       "3         0.0  ...   0.0   0.0   0.0       0.0          0.0  0.0   0.0   \n",
       "4         0.0  ...   0.0   0.0   0.0       0.0          0.0  0.0   0.0   \n",
       "...       ...  ...   ...   ...   ...       ...          ...  ...   ...   \n",
       "31365     0.0  ...   0.0   0.0   0.0       0.0          0.0  0.0   0.0   \n",
       "31366     0.0  ...   0.0   0.0   0.0       0.0          0.0  0.0   0.0   \n",
       "31367     0.0  ...   0.0   0.0   0.0       0.0          0.0  0.0   0.0   \n",
       "31368     0.0  ...   0.0   0.0   0.0       0.0          0.0  0.0   0.0   \n",
       "31369     0.0  ...   0.0   0.0   0.0       0.0          0.0  0.0   0.0   \n",
       "\n",
       "       working  written  wrong  \n",
       "0          0.0      0.0    0.0  \n",
       "1          0.0      0.0    0.0  \n",
       "2          0.0      0.0    0.0  \n",
       "3          0.0      0.0    0.0  \n",
       "4          0.0      0.0    0.0  \n",
       "...        ...      ...    ...  \n",
       "31365      0.0      0.0    0.0  \n",
       "31366      0.0      0.0    0.0  \n",
       "31367      0.0      0.0    0.0  \n",
       "31368      0.0      0.0    0.0  \n",
       "31369      0.0      0.0    0.0  \n",
       "\n",
       "[31370 rows x 382 columns]"
      ]
     },
     "execution_count": 10,
     "metadata": {},
     "output_type": "execute_result"
    }
   ],
   "source": [
    "issues_df"
   ]
  },
  {
   "cell_type": "code",
   "execution_count": 11,
   "metadata": {},
   "outputs": [
    {
     "data": {
      "image/png": "[encoded data removed]",
      "text/plain": [
       "<Figure size 432x288 with 1 Axes>"
      ]
     },
     "metadata": {
      "needs_background": "light"
     },
     "output_type": "display_data"
    }
   ],
   "source": [
    "clusters = [KMeans(n_clusters=i) for i in range(1,10)]\n",
    "objective_score = [k.fit(train).score(test) for k in clusters]\n",
    "\n",
    "plt.plot(range(1,10),objective_score)\n",
    "plt.xlabel(\"Number of Clusters\")\n",
    "plt.ylabel('Score')\n",
    "plt.title('Elbow Curve')\n",
    "plt.show()"
   ]
  },
  {
   "cell_type": "markdown",
   "metadata": {},
   "source": [
    "## How many Clusters Should be Chosen? "
   ]
  },
  {
   "cell_type": "code",
   "execution_count": 12,
   "metadata": {},
   "outputs": [],
   "source": [
    "#clusters = 6 \n",
    "k = KMeans(n_clusters = 6)\n",
    "predictions = k.fit_predict(issues_df)"
   ]
  },
  {
   "cell_type": "code",
   "execution_count": 13,
   "metadata": {
    "scrolled": false
   },
   "outputs": [],
   "source": [
    "df['Cluster'] = predictions"
   ]
  },
  {
   "cell_type": "code",
   "execution_count": 14,
   "metadata": {},
   "outputs": [],
   "source": [
    "results_df = pd.DataFrame({'count':df.groupby(['Year received', 'Cluster']).size()}).reset_index()"
   ]
  },
  {
   "cell_type": "code",
   "execution_count": 15,
   "metadata": {},
   "outputs": [
    {
     "data": {
      "image/png": "[encoded data removed]",
      "text/plain": [
       "<Figure size 432x288 with 1 Axes>"
      ]
     },
     "metadata": {
      "needs_background": "light"
     },
     "output_type": "display_data"
    }
   ],
   "source": [
    "import seaborn as sns\n",
    "\n",
    "plot = sns.barplot(data=results_df,x=\"Year received\",y=\"count\", hue = \"Cluster\" )\n",
    "#plot.set_xticklabels(labels,rotation = 90);  \n",
    "plot.set_title(\"CFPB Financial Issue Category by Year\"); "
   ]
  },
  {
   "cell_type": "markdown",
   "metadata": {},
   "source": [
    "##  Looks like cluster 0 really spiked during 2020 Lets investigate further ....."
   ]
  },
  {
   "cell_type": "markdown",
   "metadata": {},
   "source": [
    "### Cluster 0 "
   ]
  },
  {
   "cell_type": "code",
   "execution_count": 16,
   "metadata": {},
   "outputs": [
    {
     "data": {
      "text/plain": [
       "array(['Payday loan, title loan, or personal loan',\n",
       "       'Vehicle loan or lease',\n",
       "       'Credit reporting, credit repair services, or other personal consumer reports',\n",
       "       'Student loan', 'Mortgage',\n",
       "       'Money transfer, virtual currency, or money service',\n",
       "       'Debt collection', 'Checking or savings account'], dtype=object)"
      ]
     },
     "execution_count": 16,
     "metadata": {},
     "output_type": "execute_result"
    }
   ],
   "source": [
    "df[df['Cluster'] == 0]['Product'].unique() "
   ]
  },
  {
   "cell_type": "code",
   "execution_count": 17,
   "metadata": {},
   "outputs": [
    {
     "data": {
      "text/plain": [
       "array(['Personal line of credit', 'Loan', 'Credit reporting',\n",
       "       'Private student loan', 'Federal student loan servicing',\n",
       "       'Payday loan', 'Other type of mortgage',\n",
       "       'Conventional home mortgage', 'International money transfer',\n",
       "       'Foreign currency exchange', 'FHA mortgage',\n",
       "       'Home equity loan or line of credit (HELOC)',\n",
       "       'Private student loan debt', 'Lease', 'Mobile or digital wallet',\n",
       "       'Credit repair services', 'I do not know',\n",
       "       'Domestic (US) money transfer', 'Mortgage debt',\n",
       "       'Virtual currency', 'Installment loan', 'Money order',\n",
       "       'VA mortgage', 'Debt settlement', 'Federal student loan debt',\n",
       "       \"Traveler's check or cashier's check\", 'Payday loan debt',\n",
       "       'Title loan', 'Check cashing service', 'Reverse mortgage',\n",
       "       'Other personal consumer report', 'Refund anticipation check',\n",
       "       'Pawn loan'], dtype=object)"
      ]
     },
     "execution_count": 17,
     "metadata": {},
     "output_type": "execute_result"
    }
   ],
   "source": [
    "df[df['Cluster'] == 0]['Sub-product'].unique()"
   ]
  },
  {
   "cell_type": "code",
   "execution_count": 18,
   "metadata": {},
   "outputs": [
    {
     "data": {
      "text/plain": [
       "array(['Getting a line of credit',\n",
       "       'Problems at the end of the loan or lease',\n",
       "       'Credit monitoring or identity theft protection services',\n",
       "       'Managing the loan or lease',\n",
       "       'Dealing with your lender or servicer',\n",
       "       \"Charged fees or interest you didn't expect\",\n",
       "       'Trouble during payment process', 'Struggling to pay mortgage',\n",
       "       'Closing on a mortgage', 'Struggling to repay your loan',\n",
       "       'Other transaction problem', 'Fraud or scam',\n",
       "       'Incorrect information on your report',\n",
       "       'Applying for a mortgage or refinancing an existing mortgage',\n",
       "       'Money was not available when promised',\n",
       "       'Took or threatened to take negative or legal action',\n",
       "       'Managing, opening, or closing your mobile wallet account',\n",
       "       'Confusing or misleading advertising or marketing',\n",
       "       'Getting a loan or lease', 'Improper use of your report',\n",
       "       'Unauthorized transactions or other transaction problem',\n",
       "       'Other service problem', 'Struggling to pay your loan',\n",
       "       'Lost or stolen money order', 'Wrong amount charged or received',\n",
       "       'Problem with customer service', 'Problem when making payments',\n",
       "       'Getting the loan', 'Communication tactics',\n",
       "       'Problem with additional add-on products or services',\n",
       "       \"Problem with a credit reporting company's investigation into an existing problem\",\n",
       "       'Lost or stolen check',\n",
       "       'Problem with the payoff process at the end of the loan',\n",
       "       'Excessive fees',\n",
       "       'Identity theft protection or other monitoring services',\n",
       "       'Unexpected or other fees', 'Problem adding money',\n",
       "       'Confusing or missing disclosures', 'Getting a loan',\n",
       "       'Overdraft, savings, or rewards features',\n",
       "       \"Can't contact lender or servicer\",\n",
       "       'False statements or representation', 'Problem with cash advance',\n",
       "       'Threatened to contact someone or share information improperly',\n",
       "       \"Loan payment wasn't credited to your account\",\n",
       "       'Incorrect exchange rate',\n",
       "       'Vehicle was repossessed or sold the vehicle',\n",
       "       'Credit limit changed',\n",
       "       \"Was approved for a loan, but didn't receive the money\",\n",
       "       \"Received a loan you didn't apply for\"], dtype=object)"
      ]
     },
     "execution_count": 18,
     "metadata": {},
     "output_type": "execute_result"
    }
   ],
   "source": [
    "df[df['Cluster'] == 0]['Issue'].unique()"
   ]
  },
  {
   "cell_type": "code",
   "execution_count": 19,
   "metadata": {},
   "outputs": [
    {
     "data": {
      "text/plain": [
       "array(['None', 'Problem while selling or giving up the vehicle',\n",
       "       'Problem with product or service terms changing',\n",
       "       'Problem with additional products or services purchased with the loan',\n",
       "       'Received bad information about your loan',\n",
       "       \"Can't temporarily delay making payments\",\n",
       "       'Trouble with how payments are being handled',\n",
       "       \"Can't get other flexible options for repaying your loan\",\n",
       "       'Account status incorrect', 'Billing problem',\n",
       "       'Threatened or suggested your credit would be damaged',\n",
       "       'Excess mileage, damage, or wear fees, or other problem after the lease is finish',\n",
       "       'Billing dispute for services',\n",
       "       'Threatened to arrest you or take you to jail if you do not pay',\n",
       "       'Problem lowering your monthly payments', 'Fraudulent loan',\n",
       "       'Problem canceling credit monitoring or identify theft protection service',\n",
       "       'Seized or attempted to seize your property',\n",
       "       \"Don't agree with the fees charged\",\n",
       "       'Received unsolicited financial product or insurance offers after opting out',\n",
       "       'Problem related to refinancing',\n",
       "       'Unable to receive car title or other problem after the loan is paid off',\n",
       "       'Problem with paying off the loan', 'Credit denial',\n",
       "       'Report provided to employer without your written authorization',\n",
       "       'You told them to stop contacting you, but they keep trying',\n",
       "       'Lender trying to repossess or disable the vehicle',\n",
       "       'Problem with additional add-on products or services purchased with the loan',\n",
       "       'Account information incorrect',\n",
       "       'Denied request to lower payments',\n",
       "       'Keep getting calls about your loan',\n",
       "       'Need information about your loan balance or loan terms',\n",
       "       'Loan sold or transferred to another company',\n",
       "       'Received unwanted marketing or advertising',\n",
       "       'Confusing or misleading advertising or marketing',\n",
       "       'Problem with the interest rate',\n",
       "       'Loan balance remaining after the vehicle is repossessed and sold',\n",
       "       'Difficulty submitting a dispute or getting information about a dispute over the phone',\n",
       "       'Problem with fees charged', 'Information belongs to someone else',\n",
       "       'Problem with customer service',\n",
       "       'Old information reappears or never goes away',\n",
       "       'Changes in terms mid-deal or after closing',\n",
       "       'Sued you without properly notifying you of lawsuit',\n",
       "       \"Didn't receive services that were advertised\",\n",
       "       'Confusing or misleading advertising',\n",
       "       'Information is missing that should be on the report',\n",
       "       'Called before 8am or after 9pm',\n",
       "       'Their investigation did not fix an error on your report',\n",
       "       'High-pressure sales tactics',\n",
       "       'Impersonated attorney, law enforcement, or government official',\n",
       "       \"Credit inquiries on your report that you don't recognize\",\n",
       "       'Contacted you after you asked them to stop',\n",
       "       'Contacted your employer',\n",
       "       'Termination fees or other problem when ending the lease early',\n",
       "       'Problem with personal statement of dispute', 'Denied loan',\n",
       "       'Used obscene, profane, or other abusive language',\n",
       "       'Problem with signing the paperwork',\n",
       "       'Collected or attempted to collect exempt funds',\n",
       "       'Problem extending the lease',\n",
       "       'Reporting company used your report improperly',\n",
       "       'Investigation took more than 30 days'], dtype=object)"
      ]
     },
     "execution_count": 19,
     "metadata": {},
     "output_type": "execute_result"
    }
   ],
   "source": [
    "df[df['Cluster'] == 0]['Sub-issue'].unique()"
   ]
  },
  {
   "cell_type": "markdown",
   "metadata": {},
   "source": [
    "### Cluster 1"
   ]
  },
  {
   "cell_type": "code",
   "execution_count": 20,
   "metadata": {},
   "outputs": [
    {
     "data": {
      "text/plain": [
       "array(['Credit reporting, credit repair services, or other personal consumer reports'],\n",
       "      dtype=object)"
      ]
     },
     "execution_count": 20,
     "metadata": {},
     "output_type": "execute_result"
    }
   ],
   "source": [
    "df[df['Cluster'] == 1]['Product'].unique() "
   ]
  },
  {
   "cell_type": "code",
   "execution_count": 21,
   "metadata": {},
   "outputs": [
    {
     "data": {
      "text/plain": [
       "array(['Credit reporting', 'Other personal consumer report',\n",
       "       'Credit repair services'], dtype=object)"
      ]
     },
     "execution_count": 21,
     "metadata": {},
     "output_type": "execute_result"
    }
   ],
   "source": [
    "df[df['Cluster'] == 1]['Sub-product'].unique()"
   ]
  },
  {
   "cell_type": "code",
   "execution_count": 22,
   "metadata": {},
   "outputs": [
    {
     "data": {
      "text/plain": [
       "array(['Incorrect information on your report',\n",
       "       'Improper use of your report',\n",
       "       'Unable to get your credit report or credit score',\n",
       "       'Credit monitoring or identity theft protection services',\n",
       "       'Fraud or scam', 'Confusing or missing disclosures',\n",
       "       'Problem with customer service', 'Unexpected or other fees'],\n",
       "      dtype=object)"
      ]
     },
     "execution_count": 22,
     "metadata": {},
     "output_type": "execute_result"
    }
   ],
   "source": [
    "df[df['Cluster'] == 1]['Issue'].unique()"
   ]
  },
  {
   "cell_type": "code",
   "execution_count": 23,
   "metadata": {},
   "outputs": [
    {
     "data": {
      "text/plain": [
       "array(['Information belongs to someone else',\n",
       "       \"Credit inquiries on your report that you don't recognize\",\n",
       "       'Reporting company used your report improperly',\n",
       "       'Account information incorrect', 'Account status incorrect',\n",
       "       'Problem getting your free annual credit report',\n",
       "       'Public record information inaccurate',\n",
       "       'Old information reappears or never goes away',\n",
       "       'Personal information incorrect', 'Billing dispute for services',\n",
       "       'Other problem getting your report or credit score',\n",
       "       'Information is missing that should be on the report', 'None',\n",
       "       'Information is incorrect',\n",
       "       'Information that should be on the report is missing',\n",
       "       \"Didn't receive services that were advertised\"], dtype=object)"
      ]
     },
     "execution_count": 23,
     "metadata": {},
     "output_type": "execute_result"
    }
   ],
   "source": [
    "df[df['Cluster'] == 1]['Sub-issue'].unique()"
   ]
  },
  {
   "cell_type": "markdown",
   "metadata": {},
   "source": [
    "## Cluster 2"
   ]
  },
  {
   "cell_type": "code",
   "execution_count": 24,
   "metadata": {},
   "outputs": [
    {
     "data": {
      "text/plain": [
       "array(['Credit reporting, credit repair services, or other personal consumer reports',\n",
       "       'Vehicle loan or lease', 'Checking or savings account'],\n",
       "      dtype=object)"
      ]
     },
     "execution_count": 24,
     "metadata": {},
     "output_type": "execute_result"
    }
   ],
   "source": [
    "df[df['Cluster'] == 2]['Product'].unique()"
   ]
  },
  {
   "cell_type": "code",
   "execution_count": 25,
   "metadata": {},
   "outputs": [
    {
     "data": {
      "text/plain": [
       "array(['Credit reporting', 'Lease', 'Other personal consumer report',\n",
       "       'Personal line of credit', 'Loan',\n",
       "       'Other banking product or service'], dtype=object)"
      ]
     },
     "execution_count": 25,
     "metadata": {},
     "output_type": "execute_result"
    }
   ],
   "source": [
    "df[df['Cluster'] == 2]['Sub-product'].unique()"
   ]
  },
  {
   "cell_type": "code",
   "execution_count": 26,
   "metadata": {},
   "outputs": [
    {
     "data": {
      "text/plain": [
       "array([\"Problem with a credit reporting company's investigation into an existing problem\",\n",
       "       'Problem with fraud alerts or security freezes',\n",
       "       \"Problem with a company's investigation into an existing issue\"],\n",
       "      dtype=object)"
      ]
     },
     "execution_count": 26,
     "metadata": {},
     "output_type": "execute_result"
    }
   ],
   "source": [
    "df[df['Cluster'] == 2]['Issue'].unique()"
   ]
  },
  {
   "cell_type": "code",
   "execution_count": 27,
   "metadata": {},
   "outputs": [
    {
     "data": {
      "text/plain": [
       "array(['Their investigation did not fix an error on your report',\n",
       "       'Was not notified of investigation status or results',\n",
       "       'Difficulty submitting a dispute or getting information about a dispute over the phone',\n",
       "       'None', 'Problem with personal statement of dispute',\n",
       "       'Investigation took more than 30 days'], dtype=object)"
      ]
     },
     "execution_count": 27,
     "metadata": {},
     "output_type": "execute_result"
    }
   ],
   "source": [
    "df[df['Cluster'] == 2]['Sub-issue'].unique()"
   ]
  },
  {
   "cell_type": "markdown",
   "metadata": {},
   "source": [
    "### Cluster 3"
   ]
  },
  {
   "cell_type": "code",
   "execution_count": 28,
   "metadata": {},
   "outputs": [
    {
     "data": {
      "text/plain": [
       "array(['Credit card or prepaid card'], dtype=object)"
      ]
     },
     "execution_count": 28,
     "metadata": {},
     "output_type": "execute_result"
    }
   ],
   "source": [
    "df[df['Cluster'] == 3]['Product'].unique()"
   ]
  },
  {
   "cell_type": "code",
   "execution_count": 29,
   "metadata": {},
   "outputs": [
    {
     "data": {
      "text/plain": [
       "array(['General-purpose credit card or charge card', 'Store credit card',\n",
       "       'General-purpose prepaid card', 'Government benefit card',\n",
       "       'Payroll card', 'Gift card'], dtype=object)"
      ]
     },
     "execution_count": 29,
     "metadata": {},
     "output_type": "execute_result"
    }
   ],
   "source": [
    "df[df['Cluster'] == 3]['Sub-product'].unique()"
   ]
  },
  {
   "cell_type": "code",
   "execution_count": 30,
   "metadata": {},
   "outputs": [
    {
     "data": {
      "text/plain": [
       "array(['Fees or interest',\n",
       "       'Advertising and marketing, including promotional offers',\n",
       "       'Getting a credit card', 'Other features, terms, or problems',\n",
       "       'Problem with a purchase shown on your statement',\n",
       "       'Problem when making payments', 'Improper use of your report',\n",
       "       'Problem with a purchase or transfer', 'Trouble using the card',\n",
       "       'Closing your account', 'Trouble using your card',\n",
       "       'Incorrect information on your report',\n",
       "       'Struggling to pay your bill', 'Unexpected or other fees',\n",
       "       'Problem getting a card or closing an account', 'Advertising',\n",
       "       'Credit monitoring or identity theft protection services',\n",
       "       \"Problem with a credit reporting company's investigation into an existing problem\",\n",
       "       'Unable to get your credit report or credit score',\n",
       "       'Problem with fraud alerts or security freezes',\n",
       "       'Problem with overdraft', 'Problem with an overdraft'],\n",
       "      dtype=object)"
      ]
     },
     "execution_count": 30,
     "metadata": {},
     "output_type": "execute_result"
    }
   ],
   "source": [
    "df[df['Cluster'] == 3]['Issue'].unique()"
   ]
  },
  {
   "cell_type": "markdown",
   "metadata": {},
   "source": [
    "### Cluster 4"
   ]
  },
  {
   "cell_type": "code",
   "execution_count": 31,
   "metadata": {},
   "outputs": [
    {
     "data": {
      "text/plain": [
       "array(['Checking or savings account'], dtype=object)"
      ]
     },
     "execution_count": 31,
     "metadata": {},
     "output_type": "execute_result"
    }
   ],
   "source": [
    "df[df['Cluster'] == 4]['Product'].unique()"
   ]
  },
  {
   "cell_type": "code",
   "execution_count": 32,
   "metadata": {},
   "outputs": [
    {
     "data": {
      "text/plain": [
       "array(['Checking account', 'Other banking product or service',\n",
       "       'Savings account', 'CD (Certificate of Deposit)'], dtype=object)"
      ]
     },
     "execution_count": 32,
     "metadata": {},
     "output_type": "execute_result"
    }
   ],
   "source": [
    "df[df['Cluster'] == 4]['Sub-product'].unique()"
   ]
  },
  {
   "cell_type": "code",
   "execution_count": 33,
   "metadata": {},
   "outputs": [
    {
     "data": {
      "text/plain": [
       "array(['Managing an account', 'Opening an account',\n",
       "       'Problem with a lender or other company charging your account',\n",
       "       'Problem caused by your funds being low',\n",
       "       'Incorrect information on your report', 'Closing an account',\n",
       "       'Credit monitoring or identity theft protection services',\n",
       "       'Problem with fraud alerts or security freezes',\n",
       "       \"Problem with a credit reporting company's investigation into an existing problem\"],\n",
       "      dtype=object)"
      ]
     },
     "execution_count": 33,
     "metadata": {},
     "output_type": "execute_result"
    }
   ],
   "source": [
    "df[df['Cluster'] == 4]['Issue'].unique()"
   ]
  }
 ],
 "metadata": {
  "kernelspec": {
   "display_name": "Python 3",
   "language": "python",
   "name": "python3"
  },
  "language_info": {
   "codemirror_mode": {
    "name": "ipython",
    "version": 3
   },
   "file_extension": ".py",
   "mimetype": "text/x-python",
   "name": "python",
   "nbconvert_exporter": "python",
   "pygments_lexer": "ipython3",
   "version": "3.7.6"
  }
 },
 "nbformat": 4,
 "nbformat_minor": 4
}
